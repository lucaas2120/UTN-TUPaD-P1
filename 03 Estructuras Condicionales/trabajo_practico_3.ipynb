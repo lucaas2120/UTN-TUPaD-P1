{
  "cells": [
    {
      "cell_type": "markdown",
      "metadata": {
        "id": "T51serlKJheg"
      },
      "source": [
        "#### **Ejercicio 1**\n",
        "\n",
        "Escribir un programa que solicite la edad del usuario. Si el usuario es mayor de 18 años, deberá mostrar un mensaje en pantalla que diga “Es mayor de edad”.\n"
      ]
    },
    {
      "cell_type": "code",
      "execution_count": null,
      "metadata": {
        "colab": {
          "base_uri": "https://localhost:8080/"
        },
        "id": "63Dx8Z_eJAbp",
        "outputId": "a7e3d286-bf22-4d31-eb4b-844aa9104b98"
      },
      "outputs": [],
      "source": [
        "# Pedimos al usuario que ingrese su edad. Si la edad es mayor que 18, imprimimos \"Es mayor de edad\"\n",
        "edad = int(input(\"Por favor, ingrese su edad en años: \"))\n",
        "\n",
        "if edad > 18:\n",
        "  print(\"Es mayor de edad\")"
      ]
    },
    {
      "cell_type": "markdown",
      "metadata": {
        "id": "zkiyef1TJpxK"
      },
      "source": [
        "#### **Ejercicio 2**\n",
        "\n",
        "Escribir un programa que solicite su nota al usuario. Si la nota es mayor o igual a 6, deberá mostrar por pantalla un mensaje que diga “Aprobado”; en caso contrario deberá mostrar el mensaje “Desaprobado”."
      ]
    },
    {
      "cell_type": "code",
      "execution_count": null,
      "metadata": {
        "colab": {
          "base_uri": "https://localhost:8080/"
        },
        "id": "O7PpNxXnI9Bj",
        "outputId": "0d15bdee-cf54-4e6b-e8bb-89b0a96e2167"
      },
      "outputs": [],
      "source": [
        "# Pedimos al usuario que ingrese su nota\n",
        "nota = float(input(\"Por favor, ingrese su nota: \"))\n",
        "\n",
        "# Si la nota es mayor o igual que 6, imprimimos \"Aprobado\" de lo contrario imprimimos \"Desaprobado\"\n",
        "if nota >=6:\n",
        "  print(\"Aprobado\")\n",
        "\n",
        "else:\n",
        "  print(\"Desaprobado\")"
      ]
    },
    {
      "cell_type": "markdown",
      "metadata": {
        "id": "94K4Udc0J17x"
      },
      "source": [
        "#### **Ejercicio 3**\n",
        "\n",
        "Escribir un programa que permita ingresar solo números pares. Si el usuario ingresa un número par, imprimir por en pantalla el mensaje \"Ha ingresado un número par\"; en caso contrario, imprimir por pantalla \"Por favor, ingrese un número par\". Nota: investigar el uso del operador de módulo (%) en Python para evaluar si un número es par o impar."
      ]
    },
    {
      "cell_type": "code",
      "execution_count": null,
      "metadata": {
        "colab": {
          "base_uri": "https://localhost:8080/"
        },
        "id": "KpqXyW5OJ7Q9",
        "outputId": "c7cd35b8-1c1d-4439-ada1-98a9e9cd23c7"
      },
      "outputs": [],
      "source": [
        "# Pedimos al usuario que ingrese un número\n",
        "num = int(input(\"Por favor, ingrese un número entero: \"))\n",
        "\n",
        "# Si se ingresa un número par, imprimimos \"Ha ingresado un número par\", de lo contrario \"Por favor, ingresar un número par\"\n",
        "if num % 2 == 0:\n",
        "  print(\"Ha ingresado un número par\")\n",
        "else:\n",
        "  print(\"Por favor, ingresar un número par\")"
      ]
    },
    {
      "cell_type": "markdown",
      "metadata": {
        "id": "FLEpYGFdKIws"
      },
      "source": [
        "#### **Ejercicio 4**\n",
        "\n",
        "Escribir un programa que solicite al usuario su edad e imprima por pantalla a cuál de las siguientes categorías pertenece:\n",
        "*   **Niño/a:** menor de 12 años.\n",
        "*   **Adolescente:** mayor o igual que 12 años y menor que 18 años.\n",
        "*   **Adulto/a joven:** mayor o igual que 18 años y menor que 30 años.\n",
        "*   **Adulto/a:** mayor o igual que 30 años.\n"
      ]
    },
    {
      "cell_type": "code",
      "execution_count": null,
      "metadata": {
        "colab": {
          "base_uri": "https://localhost:8080/"
        },
        "id": "R7Tq5OIjKMq2",
        "outputId": "1aaf883c-254f-4c32-d3f4-ca5d114cc625"
      },
      "outputs": [],
      "source": [
        "# Pedimos al usuario que ingrese su edad\n",
        "edad = int(input(\"Por favor, ingrese su edad en años: \"))\n",
        "if edad < 0:\n",
        "  print(\"Ingrese una edad correcta\")\n",
        "elif edad < 12:\n",
        "  print(\"Niño/a\")\n",
        "elif 12 <= edad < 18:\n",
        "  print(\"Adolescente\")\n",
        "elif 18 <= edad < 30:\n",
        "  print(\"Adulto/a joven\")\n",
        "else:\n",
        "  print(\"Adulto/a\")"
      ]
    },
    {
      "cell_type": "markdown",
      "metadata": {
        "id": "j79FEir_K2Vm"
      },
      "source": [
        "#### **Ejercicio 5**\n",
        "\n",
        "Escribir un programa que permita introducir contraseñas de entre 8 y 14 caracteres (incluyendo 8 y 14). Si el usuario ingresa una contraseña de longitud adecuada, imprimir por en pantalla el mensaje \"Ha ingresado una contraseña correcta\"; en caso contrario, imprimir por pantalla \"Por favor, ingrese una contraseña de entre 8 y 14 caracteres\". Nota: investigue el uso de la función len() en Python para evaluar la cantidad de elementos que tiene un iterable tal como una lista o un string."
      ]
    },
    {
      "cell_type": "code",
      "execution_count": null,
      "metadata": {
        "colab": {
          "base_uri": "https://localhost:8080/"
        },
        "id": "9EFLgKkTK6AP",
        "outputId": "160fd055-1740-409e-f9df-924a327cab8e"
      },
      "outputs": [
        {
          "name": "stdout",
          "output_type": "stream",
          "text": [
            "Por favor, ingrese su contraseña: mi_contraseña\n",
            "Ha ingresado una contraseña correcta\n"
          ]
        }
      ],
      "source": [
        "# Pedimos al usuario que ingrese su contraseña. Se guarda en la variable password\n",
        "password = input(\"Por favor, ingrese su contraseña: \")\n",
        "\n",
        "if 8 <= len(password) <= 14:\n",
        "  print(\"Ha ingresado una contraseña correcta\")\n",
        "else:\n",
        "  print(\"Por favor, ingrese una contraseña de entre 8 y 14 caracteres\")"
      ]
    },
    {
      "cell_type": "markdown",
      "metadata": {
        "id": "buIjj2i4Lf2U"
      },
      "source": [
        "#### **Ejercicio 6**\n",
        "\n",
        "\n",
        "Teniendo en cuenta lo antes mencionado, escribir un programa que tome la lista numeros_aleatorios, calcule su moda, su mediana y su media y las compare para determinar si hay sesgo positivo, negativo o no hay sesgo. Imprimir el resultado por pantalla.\n",
        "\n"
      ]
    },
    {
      "cell_type": "code",
      "execution_count": null,
      "metadata": {
        "colab": {
          "base_uri": "https://localhost:8080/"
        },
        "id": "yIfhgxneenB_",
        "outputId": "85f9ecee-be60-473b-9a67-39f935a5fc04"
      },
      "outputs": [],
      "source": [
        "# Importamos todas los paquetes y funciones que necesitamos utilizar\n",
        "import random\n",
        "from statistics import mode, median, mean\n",
        "\n",
        "numeros_aleatorios = [random.randint(1, 100) for i in range(50)]\n",
        "\n",
        "# Calculamos la moda, la mediana y la media de la lista numeros_aleatorios\n",
        "moda = mode(numeros_aleatorios)\n",
        "mediana = median(numeros_aleatorios)\n",
        "media = mean(numeros_aleatorios)\n",
        "\n",
        "if media > mediana > moda:\n",
        "  print(\"Sesgo positivo o a la derecha\")\n",
        "elif media < mediana < moda:\n",
        "  print(\"Sesgo negativo o a la izquierda\")\n",
        "elif media == mediana == moda:\n",
        "  print(\"Sin sesgo\")\n",
        "else:\n",
        "  print(\"No se puede determinar si esta distribución tiene sesgo o no\")"
      ]
    },
    {
      "cell_type": "markdown",
      "metadata": {
        "id": "pTTua8NxMSLX"
      },
      "source": [
        "#### **Ejercicio 7**\n",
        "\n",
        "Escribir un programa que solicite una frase o palabra al usuario. Si el string ingresado termina con vocal, añadir un signo de exclamación al final e imprimir el string resultante por pantalla; en caso contrario, dejar el string tal cual lo ingresó el usuario e imprimirlo por pantalla."
      ]
    },
    {
      "cell_type": "code",
      "execution_count": null,
      "metadata": {
        "colab": {
          "base_uri": "https://localhost:8080/"
        },
        "id": "AMUUUIGwM9h3",
        "outputId": "2d28264a-f8ba-4119-e7b3-c9a1dd27f612"
      },
      "outputs": [],
      "source": [
        "# Pedimos al usuario que ingrese una frase o palabra\n",
        "frase = input(\"Por favor, ingrese una frase o palabra: \")\n",
        "\n",
        "# Convertimos la frase en minuscula para poder trabajar con ella para evitar repetir las letras en mayuscula\n",
        "if frase[-1].lower() in (\"aeiou\"):\n",
        "  print(f\"{frase}!\")\n",
        "else:\n",
        "  print(frase)"
      ]
    },
    {
      "cell_type": "markdown",
      "metadata": {
        "id": "1RRd0JHNOJNS"
      },
      "source": [
        "#### **Ejercicio 8**\n",
        "\n",
        "Escribir un programa que solicite al usuario que ingrese su nombre y el número 1, 2 o 3 dependiendo de la opción que desee:\n",
        "1. Si quiere su nombre en mayúsculas. Por ejemplo: PEDRO.\n",
        "2. Si quiere su nombre en minúsculas. Por ejemplo: pedro.\n",
        "3. Si quiere su nombre con la primera letra mayúscula. Por ejemplo: Pedro.\n",
        "\n",
        "El programa debe transformar el nombre ingresado de acuerdo a la opción seleccionada por el usuario e imprimir el resultado por pantalla. Nota: investigue uso de las funciones upper(), lower() y title() de Python para convertir entre mayúsculas y minúsculas.\n"
      ]
    },
    {
      "cell_type": "code",
      "execution_count": null,
      "metadata": {
        "colab": {
          "base_uri": "https://localhost:8080/"
        },
        "id": "copA0vR5OURn",
        "outputId": "1e215de7-4600-49eb-b8f0-f485235e145e"
      },
      "outputs": [],
      "source": [
        "# Pedimos al usuario que ingrese su nombre\n",
        "nombre = input(\"Por favor, ingrese su nombre: \")\n",
        "\n",
        "# Imprimimos por pantalla las opciones posibles y pedimos al usuario que ingrese la opción que desea\n",
        "opcion = int(input(\"Ingrese 1 Si quiere su nombre en mayúsculas ,2 Si quiere su nombre en minúsculas o 3 Si quiere su nombre con la primera letra mayúscula.\"))\n",
        "\n",
        "if opcion == 1:\n",
        "  print(nombre.upper())\n",
        "elif opcion == 2:\n",
        "  print(nombre.lower())\n",
        "elif opcion == 3:\n",
        "  print(nombre.title())\n",
        "else:\n",
        "  print(\"Por favor, ingrese una opción correcta (1, 2 o 3)\")"
      ]
    },
    {
      "cell_type": "markdown",
      "metadata": {
        "id": "ADDXzTl2OzBj"
      },
      "source": [
        "#### **Ejercicio 9**\n",
        "\n",
        "Escribir un programa que pida al usuario la magnitud de un terremoto, clasifique la magnitud en una de las siguientes categorías según la escala de Richter e imprima el resultado por pantalla:\n",
        "*  **Menor que 3:** \"Muy leve\" (imperceptible).\n",
        "*  **Mayor o igual que 3  y menor que 4:** \"Leve\" (ligeramente perceptible).\n",
        "*  **Mayor o igual que 4  y menor que 5:** \"Moderado\" (sentido por personas, pero generalmente no causa daños).\n",
        "*  **Mayor o igual que 5  y menor que 6:** \"Fuerte\" (puede causar daños en estructuras débiles).\n",
        "*  **Mayor o igual que 6  y menor que 7:** \"Muy Fuerte\" (puede causar daños significativos).\n",
        "*  **Mayor o igual que 7:** \"Extremo\" (puede causar graves daños a gran escala)."
      ]
    },
    {
      "cell_type": "code",
      "execution_count": null,
      "metadata": {
        "colab": {
          "base_uri": "https://localhost:8080/"
        },
        "id": "Mk0W1wB4Yv83",
        "outputId": "97534387-246b-45d6-d017-a5d6a80f7927"
      },
      "outputs": [],
      "source": [
        "# Pedimos al usuario que ingrese la magnitud del terremoto\n",
        "magnitud = float(input(\"Por favor, ingrese la magnitud del terremoto según la escala de Ritcher: \"))\n",
        "#Imprimimos segun corresponda su magnitud\n",
        "if magnitud < 3:\n",
        "  print(\"Muy leve\")\n",
        "elif 3 <= magnitud < 4:\n",
        "  print(\"Leve\")\n",
        "elif 4 <= magnitud < 5:\n",
        "  print(\"Moderado\")\n",
        "elif 5 <= magnitud < 6:\n",
        "  print(\"Fuerte\")\n",
        "elif 6 <= magnitud < 7:\n",
        "  print(\"Muy fuerte\")\n",
        "else:\n",
        "  print(\"Extremo\")"
      ]
    },
    {
      "cell_type": "markdown",
      "metadata": {
        "id": "dUEub-1cZWoT"
      },
      "source": [
        "#### **Ejercicio 10**\n",
        "\n",
        "Utilizando la información aportada en la siguiente tabla sobre las estaciones del año (VER PDF)\n",
        "\n",
        "Escribir un programa que pregunte al usuario en cuál hemisferio se encuentra (N/S), qué mes del año es y qué día es. El programa deberá utilizar esa información para imprimir por pantalla si el usuario se encuentra en otoño, invierno, primavera o verano."
      ]
    },
    {
      "cell_type": "code",
      "execution_count": null,
      "metadata": {
        "colab": {
          "base_uri": "https://localhost:8080/"
        },
        "id": "c_NTpkITZGTd",
        "outputId": "c52b7920-be51-4d0e-b078-7b4e7636699b"
      },
      "outputs": [],
      "source": [
        "# Pedimos al usuario que ingrese el hemisferio y lo llevamos a minuscula para trabajar con el mismo dato\n",
        "hemisferio = input(\"Por favor, ingrese el hemisferio en el que se encuentra (N = norte /S = sur): \")\n",
        "hemisferio = hemisferio.lower()\n",
        "\n",
        "mes = int(input(\"Ingrese el mes del año en números: \"))\n",
        "\n",
        "dia = int(input(\"Ingrese el día del mes en números: \"))\n",
        "\n",
        "if hemisferio == \"s\":\n",
        "  if (mes == 12 and dia >= 21) or (mes in (1,2)) or (mes == 3 and dia <= 20):\n",
        "    print(\"Verano\")\n",
        "  elif (mes == 3 and dia >= 21) or (mes in (4,5)) or (mes == 6 and dia <= 20):\n",
        "    print(\"Otoño\")\n",
        "  elif (mes == 6 and dia >= 21) or (mes in (7,8)) or (mes == 9 and dia <= 20):\n",
        "    print(\"Invierno\")\n",
        "  elif (mes == 9 and dia >= 21) or (mes in (10,11)) or (mes == 12 and dia <= 20):\n",
        "    print(\"Primavera\")\n",
        "elif hemisferio == \"n\":\n",
        "  if (mes == 12 and dia >= 21) or (mes in (1,2)) or (mes == 3 and dia <= 20):\n",
        "    print(\"Invierno\")\n",
        "  elif (mes == 3 and dia >= 21) or (mes in (4,5)) or (mes == 6 and dia <= 20):\n",
        "    print(\"Primavera\")\n",
        "  elif (mes == 6 and dia >= 21) or (mes in (7,8)) or (mes == 9 and dia <= 20):\n",
        "    print(\"Verano\")\n",
        "  elif (mes == 9 and dia >= 21) or (mes in (10,11)) or (mes == 12 and dia <= 20):\n",
        "    print(\"Otoño\")"
      ]
    }
  ],
  "metadata": {
    "colab": {
      "provenance": []
    },
    "kernelspec": {
      "display_name": "Python 3",
      "name": "python3"
    },
    "language_info": {
      "codemirror_mode": {
        "name": "ipython",
        "version": 3
      },
      "file_extension": ".py",
      "mimetype": "text/x-python",
      "name": "python",
      "nbconvert_exporter": "python",
      "pygments_lexer": "ipython3",
      "version": "3.12.10"
    }
  },
  "nbformat": 4,
  "nbformat_minor": 0
}
