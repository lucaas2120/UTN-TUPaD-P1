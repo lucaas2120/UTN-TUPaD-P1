{
 "cells": [
  {
   "cell_type": "markdown",
   "id": "b7a69025",
   "metadata": {},
   "source": [
    "Práctico 4: Estructuras repetitivas"
   ]
  },
  {
   "cell_type": "markdown",
   "id": "bd57f3c4",
   "metadata": {},
   "source": [
    "1) Crea un programa que imprima en pantalla todos los números enteros desde 0 hasta 100\n",
    "(incluyendo ambos extremos), en orden creciente, mostrando un número por línea."
   ]
  },
  {
   "cell_type": "code",
   "execution_count": null,
   "id": "09a9a162",
   "metadata": {},
   "outputs": [],
   "source": [
    "#En cada iteración, imprime el número actual.\n",
    "for i in range(101):\n",
    "    print(i)"
   ]
  },
  {
   "cell_type": "markdown",
   "id": "cac15d43",
   "metadata": {},
   "source": [
    "2) Desarrolla un programa que solicite al usuario un número entero y determine la cantidad de\n",
    "dígitos que contiene."
   ]
  },
  {
   "cell_type": "code",
   "execution_count": null,
   "id": "3fef4abc",
   "metadata": {},
   "outputs": [],
   "source": [
    "#Solicitamos que ingrese un número\n",
    "num = int(input(\"Por favor ingresa un número para que calculemos los digitos\"))\n",
    "#Lo pasamos a string y con len definimos su longitud\n",
    "digitos = len(str(num))\n",
    "#Retornamos e imprimimos la cantidad de digitos\n",
    "print(f\"La cantidad de dígitos que contiene es: {digitos}\")"
   ]
  },
  {
   "cell_type": "markdown",
   "id": "3c6f90f0",
   "metadata": {},
   "source": [
    "3) Escribe un programa que sume todos los números enteros comprendidos entre dos valores\n",
    "dados por el usuario, excluyendo esos dos valores."
   ]
  },
  {
   "cell_type": "code",
   "execution_count": null,
   "id": "f5dd593e",
   "metadata": {},
   "outputs": [],
   "source": [
    "#Pedimos los números para determinar cuales sumamos.\n",
    "num1 = int(input(\"Por favor ingresa un número\"))\n",
    "num2 = int(input(\"Por favor ingresa otro número\"))\n",
    "cont = 0 \n",
    "\n",
    "#Controlamos que los números no sean iguales, ya que el resultado sera 0 y no será necesario realizar el conteo. \n",
    "#Si son distintos definimos el número mayor y el menor para definir rangos del loop.\n",
    "if num1 == num2:\n",
    "    print(\"Ingrese dos números distintos\")\n",
    "else:\n",
    "    if num1 < num2:\n",
    "        desde = num1\n",
    "        hasta = num2\n",
    "    else:\n",
    "        desde = num2\n",
    "        hasta = num1\n",
    "    for i in range(desde + 1, hasta):\n",
    "        cont = cont + i\n",
    "\n",
    "    print(cont)\n"
   ]
  },
  {
   "cell_type": "markdown",
   "id": "0137c446",
   "metadata": {},
   "source": [
    "4) Elabora un programa que permita al usuario ingresar números enteros y los sume en\n",
    "secuencia. El programa debe detenerse y mostrar el total acumulado cuando el usuario ingrese\n",
    "un 0."
   ]
  },
  {
   "cell_type": "code",
   "execution_count": null,
   "id": "94afba6c",
   "metadata": {},
   "outputs": [],
   "source": [
    "#Solicitamos que ingrese un número\n",
    "num = int(input(\"Ingrese un número (0 para salir): \"))\n",
    "cont = 0\n",
    "#Mientras num sea distinto a 0, el loop continua. De lo contrario finaliza y retorna el total de la suma.\n",
    "while num != 0:\n",
    "        cont = cont + num\n",
    "        num = int(input(\"Ingrese un número (0 para salir): \"))\n",
    "print(cont)"
   ]
  },
  {
   "cell_type": "markdown",
   "id": "0ed3c110",
   "metadata": {},
   "source": [
    "5) Crea un juego en el que el usuario deba adivinar un número aleatorio entre 0 y 9. Al final, el\n",
    "programa debe mostrar cuántos intentos fueron necesarios para acertar el número."
   ]
  },
  {
   "cell_type": "code",
   "execution_count": null,
   "id": "8aa5bf3e",
   "metadata": {},
   "outputs": [],
   "source": [
    "#Importamos random.\n",
    "import random\n",
    "\n",
    "#Definimos el número random.\n",
    "numero = random.randint(0, 9)\n",
    "\n",
    "#Solicitamos que ingrese un número\n",
    "print(\"Hola! Como estás? Jugamos a adivinar un número random?\")\n",
    "numIngresado = int(input(\"Ingresa un número del 0 al 9\"))\n",
    "\n",
    "#Mientras el número sea distinto al random, continua y vuelve a solicitar un número\n",
    "while numero != numIngresado:\n",
    "    numIngresado = int(input(\"Incorrecto! Ingresa otro número\"))\n",
    "\n",
    "print(\"Felicitaciones! Ganaste\")\n",
    "\n"
   ]
  },
  {
   "cell_type": "markdown",
   "id": "c0e84a35",
   "metadata": {},
   "source": [
    "6) Desarrolla un programa que imprima en pantalla todos los números pares comprendidos\n",
    "entre 0 y 100, en orden decreciente."
   ]
  },
  {
   "cell_type": "code",
   "execution_count": null,
   "id": "fcb51d70",
   "metadata": {},
   "outputs": [],
   "source": [
    "#Iniciamos el numero en 100, el primero en imprimirse.\n",
    "num = 100\n",
    "\n",
    "#Mientras num >= 0, se imprime y se reduce en 1.\n",
    "while num >= 0: \n",
    "    print(num)\n",
    "    num-= 1"
   ]
  },
  {
   "cell_type": "markdown",
   "id": "5a624b2e",
   "metadata": {},
   "source": [
    "7) Crea un programa que calcule la suma de todos los números comprendidos entre 0 y un\n",
    "número entero positivo indicado por el usuario."
   ]
  },
  {
   "cell_type": "code",
   "execution_count": null,
   "id": "7705346b",
   "metadata": {},
   "outputs": [],
   "source": [
    "#Solicitamos que ingrese un número, el cúal va a ser utilizado como \"Hasta\"\n",
    "hasta = int(input(\"Por favor ingrese un número mayor a 0\"))\n",
    "cont = 0\n",
    "#Controlamos que el número ingresado sea mayor a 0.\n",
    "if hasta >= 0:\n",
    "    #Hasta \n",
    "    for i in range(0, hasta + 1):\n",
    "        cont = cont + i\n",
    "    print(f\"La suma total de los números comprendidos entre 0 y {hasta} es: {cont}\")\n",
    "else:\n",
    "    input(\"Ingresaste un número menor o igual 0\")"
   ]
  },
  {
   "cell_type": "markdown",
   "id": "fbf0c327",
   "metadata": {},
   "source": [
    "8) Escribe un programa que permita al usuario ingresar 100 números enteros. Luego, el\n",
    "programa debe indicar cuántos de estos números son pares, cuántos son impares, cuántos son\n",
    "negativos y cuántos son positivos. (Nota: para probar el programa puedes usar una cantidad\n",
    "menor, pero debe estar preparado para procesar 100 números con un solo cambio)."
   ]
  },
  {
   "cell_type": "code",
   "execution_count": null,
   "id": "9c7e4c9f",
   "metadata": {},
   "outputs": [],
   "source": [
    "print(\"Vamos a definir la cantidad de números positivos y negativos que ingreses.\")\n",
    "#Definimos variables e ingresamos la cantidad de números máximos a procesar.\n",
    "hasta = 100  \n",
    "numPos = 0\n",
    "numNeg = 0 \n",
    "#Bucle que se repite según el valor de \"hasta\"\n",
    "for i in range(0, hasta):\n",
    "        #Solicitamos un número al usuario\n",
    "        num = int(input(\"Ingresa un número\"))\n",
    "        #Lo clasificamos como positivo o negativo e incrementamos sus variables.\n",
    "        if num >= 0:\n",
    "                numPos+=1\n",
    "        else:\n",
    "                numNeg+=1\n",
    "#Mostramos en pantalla los resultados.\n",
    "print(f\"Números positivos ingresados: {numPos}. Números negativos ingresados: {numNeg}\")"
   ]
  },
  {
   "cell_type": "markdown",
   "id": "92887c91",
   "metadata": {},
   "source": [
    "9) Elabora un programa que permita al usuario ingresar 100 números enteros y luego calcule la\n",
    "media de esos valores. (Nota: puedes probar el programa con una cantidad menor, pero debe\n",
    "poder procesar 100 números cambiando solo un valor)."
   ]
  },
  {
   "cell_type": "code",
   "execution_count": null,
   "id": "5610e253",
   "metadata": {},
   "outputs": [],
   "source": [
    "#Variable que determina la cantidad de números a ingresar.\n",
    "totalNumeros = 100\n",
    "\n",
    "print(f\"Por favor ingrese {totalNumeros} números. Vamos a calcular la media de los mismos.\")\n",
    "cont = 0\n",
    "numIngresado = 0\n",
    "#Bucle para ingresar la totalidad de números solicitados.\n",
    "while numIngresado < totalNumeros:\n",
    "        num = int(input(\"Ingrese un número (0 para salir): \"))\n",
    "        cont += num\n",
    "        numIngresado+=1\n",
    "#Calculamos promedio\n",
    "promedio = cont/totalNumeros\n",
    "#Imprimimos el resultado.\n",
    "print(f\"Promedio: {promedio} Total numeros ingresados: {numIngresado}\")"
   ]
  },
  {
   "cell_type": "markdown",
   "id": "4039d894",
   "metadata": {},
   "source": [
    "10) Escribe un programa que invierta el orden de los dígitos de un número ingresado por el\n",
    "usuario. Ejemplo: si el usuario ingresa 547, el programa debe mostrar 745."
   ]
  },
  {
   "cell_type": "code",
   "execution_count": null,
   "id": "420bbbbf",
   "metadata": {},
   "outputs": [],
   "source": [
    "#Solicitamos que ingrese un número\n",
    "num = input(\"Por favor ingresá un número: \")\n",
    "\n",
    "#Invertimos el número usando slicing\n",
    "num_invertido = num[::-1]\n",
    "\n",
    "# Mostramos el resultado\n",
    "print(f\"Número invertido: {num_invertido}\")"
   ]
  }
 ],
 "metadata": {
  "kernelspec": {
   "display_name": "Python 3",
   "language": "python",
   "name": "python3"
  },
  "language_info": {
   "codemirror_mode": {
    "name": "ipython",
    "version": 3
   },
   "file_extension": ".py",
   "mimetype": "text/x-python",
   "name": "python",
   "nbconvert_exporter": "python",
   "pygments_lexer": "ipython3",
   "version": "3.12.10"
  }
 },
 "nbformat": 4,
 "nbformat_minor": 5
}
