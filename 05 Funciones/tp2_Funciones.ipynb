{
 "cells": [
  {
   "cell_type": "markdown",
   "id": "4ea88a73",
   "metadata": {},
   "source": [
    "1. Crear una función llamada imprimir_hola_mundo que imprima por\n",
    "pantalla el mensaje: “Hola Mundo!”. Llamar a esta función desde el\n",
    "programa principal."
   ]
  },
  {
   "cell_type": "code",
   "execution_count": null,
   "id": "c1a9a7fe",
   "metadata": {},
   "outputs": [
    {
     "name": "stdout",
     "output_type": "stream",
     "text": [
      "Hola mundo\n"
     ]
    }
   ],
   "source": [
    "def imprimir_hola_mundo(mensaje):\n",
    "    print(mensaje)\n",
    "\n",
    "imprimir_hola_mundo(\"Hola mundo!\")"
   ]
  },
  {
   "cell_type": "markdown",
   "id": "4f9e0723",
   "metadata": {},
   "source": [
    "2. Crear una función llamada saludar_usuario(nombre) que reciba\n",
    "como parámetro un nombre y devuelva un saludo personalizado.\n",
    "Por ejemplo, si se llama con saludar_usuario(\"Marcos\"), deberá devolver: “Hola Marcos!”. Llamar a esta función desde el programa\n",
    "principal solicitando el nombre al usuario"
   ]
  },
  {
   "cell_type": "code",
   "execution_count": 7,
   "id": "8c07158f",
   "metadata": {},
   "outputs": [
    {
     "name": "stdout",
     "output_type": "stream",
     "text": [
      "Hola Marcos!\n"
     ]
    }
   ],
   "source": [
    "def saludar_usuario(nombre):\n",
    "    print(f\"Hola {nombre}!\")\n",
    "\n",
    "saludar_usuario(\"Marcos\")\n"
   ]
  },
  {
   "cell_type": "markdown",
   "id": "973ba659",
   "metadata": {},
   "source": [
    "3. Crear una función llamada informacion_personal(nombre, apellido,\n",
    "edad, residencia) que reciba cuatro parámetros e imprima: “Soy\n",
    "[nombre] [apellido], tengo [edad] años y vivo en [residencia]”. Pedir los datos al usuario y llamar a esta función con los valores ingresados."
   ]
  },
  {
   "cell_type": "code",
   "execution_count": 8,
   "id": "770d23c2",
   "metadata": {},
   "outputs": [
    {
     "name": "stdout",
     "output_type": "stream",
     "text": [
      "“Soy Lucas Alvarez, tengo 18 años y vivo en Rafaela, Santa Fe\n"
     ]
    }
   ],
   "source": [
    "def informacion_personal(nombre,apellido,edad,residencia):\n",
    "    print(f\"“Soy {nombre} {apellido}, tengo {edad} años y vivo en {residencia}\")\n",
    "\n",
    "informacion_personal(\"Lucas\", \"Alvarez\", 18, \"Rafaela, Santa Fe\")"
   ]
  },
  {
   "cell_type": "markdown",
   "id": "a528d906",
   "metadata": {},
   "source": [
    "4. Crear dos funciones: calcular_area_circulo(radio) que reciba el radio como parámetro y devuelva el área del círculo. calcular_perimetro_circulo(radio) que reciba el radio como parámetro y devuelva el perímetro del círculo. Solicitar el radio al usuario y llamar ambas funciones para mostrar los resultados.\n"
   ]
  },
  {
   "cell_type": "code",
   "execution_count": 10,
   "id": "05126139",
   "metadata": {},
   "outputs": [
    {
     "name": "stdout",
     "output_type": "stream",
     "text": [
      "El área del círculo es: 314.16\n",
      "El perímetro del círculo es: 62.83\n"
     ]
    }
   ],
   "source": [
    "import math\n",
    "\n",
    "def calcular_area_circulo(radio):\n",
    "    area = math.pi * (radio**2)\n",
    "    return area\n",
    "\n",
    "def calcular_perimetro_circulo(radio):\n",
    "    perimetro = 2 * math.pi * radio\n",
    "    return perimetro\n",
    "\n",
    "def solicitar_radio():\n",
    "    radio = float(input(\"Ingresa el radio del círculo\"))\n",
    "    return radio\n",
    "\n",
    "def printResultados():\n",
    "    radio = solicitar_radio()\n",
    "    area = calcular_area_circulo(radio)\n",
    "    perimetro = calcular_perimetro_circulo(radio)\n",
    "\n",
    "    print(f\"El área del círculo es: {area:.2f}\")\n",
    "    print(f\"El perímetro del círculo es: {perimetro:.2f}\")\n",
    "\n",
    "printResultados()"
   ]
  },
  {
   "cell_type": "markdown",
   "id": "c438d308",
   "metadata": {},
   "source": [
    "5. Crear una función llamada segundos_a_horas(segundos) que reciba\n",
    "una cantidad de segundos como parámetro y devuelva la cantidad\n",
    "de horas correspondientes. Solicitar al usuario los segundos y mostrar el resultado usando esta función."
   ]
  },
  {
   "cell_type": "code",
   "execution_count": 2,
   "id": "abc53d31",
   "metadata": {},
   "outputs": [
    {
     "name": "stdout",
     "output_type": "stream",
     "text": [
      "3666 segundos son: 1h 1m 6s\n"
     ]
    }
   ],
   "source": [
    "def segundos_a_horas(segundos):\n",
    "    horas = segundos // 3600\n",
    "    minutos = (segundos % 3600) // 60\n",
    "    segundos_ = segundos % 60\n",
    "    \n",
    "    return horas, minutos, segundos_\n",
    "\n",
    "def solicitarSegundos():\n",
    "    segundos = int(input(\"Ingresa la cantidad de segundos: \"))\n",
    "\n",
    "    horas, minutos, segundos_ = segundos_a_horas(segundos)\n",
    "\n",
    "    print(f\"{segundos} segundos son: {horas}h {minutos}m {segundos_}s\")\n",
    "\n",
    "solicitarSegundos()"
   ]
  },
  {
   "cell_type": "markdown",
   "id": "07908a7c",
   "metadata": {},
   "source": [
    "6. Crear una función llamada tabla_multiplicar(numero) que reciba un\n",
    "número como parámetro y imprima la tabla de multiplicar de ese\n",
    "número del 1 al 10. Pedir al usuario el número y llamar a la función."
   ]
  },
  {
   "cell_type": "code",
   "execution_count": null,
   "id": "6a9af4c2",
   "metadata": {},
   "outputs": [
    {
     "name": "stdout",
     "output_type": "stream",
     "text": [
      "10.0 * 1 = 10\n",
      "10.0 * 2 = 20\n",
      "10.0 * 3 = 30\n",
      "10.0 * 4 = 40\n",
      "10.0 * 5 = 50\n",
      "10.0 * 6 = 60\n",
      "10.0 * 7 = 70\n",
      "10.0 * 8 = 80\n",
      "10.0 * 9 = 90\n",
      "10.0 * 10 = 100\n"
     ]
    }
   ],
   "source": [
    "def tabla_multiplicar(numero):\n",
    "    for i in range(1,11):\n",
    "        print(f\"{numero} * {i} = {numero*i}\")\n",
    "\n",
    "def solicitarNumero():\n",
    "    numero = float(input(\"Ingresa un numero\"))\n",
    "    return numero\n",
    "\n",
    "num = solicitarNumero()\n",
    "tabla_multiplicar(num)"
   ]
  },
  {
   "cell_type": "markdown",
   "id": "d2220474",
   "metadata": {},
   "source": [
    "7. Crear una función llamada operaciones_basicas(a, b) que reciba\n",
    "dos números como parámetros y devuelva una tupla con el resultado de sumarlos, restarlos, multiplicarlos y dividirlos. Mostrar los resultados de forma clara."
   ]
  },
  {
   "cell_type": "code",
   "execution_count": 2,
   "id": "b571670f",
   "metadata": {},
   "outputs": [
    {
     "name": "stdout",
     "output_type": "stream",
     "text": [
      "Suma: 25.0\n",
      "Resta: -5.0\n",
      "Multiplicación: 150.0\n",
      "División: 0.67\n"
     ]
    }
   ],
   "source": [
    "def multiplicar(num1,num2):\n",
    "    return num1 * num2\n",
    "\n",
    "def suma(num1,num2):\n",
    "    return num1+num2\n",
    "\n",
    "def resta(num1,num2):\n",
    "    return num1-num2\n",
    "\n",
    "def dividir(num1,num2):\n",
    "    if num2 == 0:\n",
    "        return \"Error: no es posible dividir por cero\"\n",
    "    return num1/num2\n",
    "\n",
    "def solicitarNumero():\n",
    "    while True:\n",
    "        try:\n",
    "            numero = float(input(\"Ingresa un número: \"))\n",
    "            return numero\n",
    "        except ValueError:\n",
    "            print(\"Ingresa un número válido\")\n",
    "\n",
    "def operaciones_basicas(num1,num2):\n",
    "    print(f\"Suma: {suma(num1,num2)}\")     \n",
    "    print(f\"Resta: {resta(num1,num2)}\")     \n",
    "    print(f\"Multiplicación: {multiplicar(num1,num2)}\")     \n",
    "    print(f\"División: {dividir(num1,num2):.2f}\")      \n",
    "\n",
    "num1 = solicitarNumero()\n",
    "num2 = solicitarNumero()  \n",
    "operaciones_basicas(num1,num2)"
   ]
  },
  {
   "cell_type": "markdown",
   "id": "08ae90b8",
   "metadata": {},
   "source": [
    "8. Crear una función llamada calcular_imc(peso, altura) que reciba el\n",
    "peso en kilogramos y la altura en metros, y devuelva el índice de\n",
    "masa corporal (IMC). Solicitar al usuario los datos y llamar a la función para mostrar el resultado con dos decimales."
   ]
  },
  {
   "cell_type": "code",
   "execution_count": 3,
   "id": "de654859",
   "metadata": {},
   "outputs": [
    {
     "name": "stdout",
     "output_type": "stream",
     "text": [
      "Tu IMC es: 46.3\n"
     ]
    }
   ],
   "source": [
    "def calcularImc(peso,altura):\n",
    "    imc = peso / (altura ** 2)\n",
    "    return round(imc,2)\n",
    "\n",
    "def solicitarDatosPersonales():\n",
    "    while True:\n",
    "        try:\n",
    "            peso = float(input(\"Ingresa tu peso en kg: \"))\n",
    "            altura = float(input(\"Ingresa tu altura en metros: \"))\n",
    "            if peso > 0 and altura > 0:\n",
    "                return peso, altura\n",
    "            else:\n",
    "                print(\"El peso y la altura deben ser mayores a 0\")\n",
    "\n",
    "        except ValueError:\n",
    "            print(\"Ingresa valores numéricos.\")\n",
    "\n",
    "peso, altura = solicitarDatosPersonales()\n",
    "imc = calcularImc(peso,altura)\n",
    "\n",
    "print(f\"Tu IMC es: {imc}\")"
   ]
  },
  {
   "cell_type": "markdown",
   "id": "85ae0456",
   "metadata": {},
   "source": [
    "9. Crear una función llamada celsius_a_fahrenheit(celsius) que reciba\n",
    "una temperatura en grados Celsius y devuelva su equivalente en\n",
    "Fahrenheit. Pedir al usuario la temperatura en Celsius y mostrar el\n",
    "resultado usando la función."
   ]
  },
  {
   "cell_type": "code",
   "execution_count": 4,
   "id": "9bc030f2",
   "metadata": {},
   "outputs": [
    {
     "name": "stdout",
     "output_type": "stream",
     "text": [
      "150.0°C equivale a 302.0°F\n"
     ]
    }
   ],
   "source": [
    "def celsiusAFahrenheit(grados):\n",
    "    return (grados * 9/5) + 32\n",
    "\n",
    "def ingresarGrados():\n",
    "    try:\n",
    "        celsius = float(input(\"Ingresa la temperatura en Celsius: \"))\n",
    "        fahrenheit = celsiusAFahrenheit(celsius)\n",
    "        print(f\"{celsius}°C equivale a {round(fahrenheit,2)}°F\")\n",
    "    except ValueError:\n",
    "        print(\"Ingresa un número válido.\")\n",
    "\n",
    "ingresarGrados()"
   ]
  },
  {
   "cell_type": "markdown",
   "id": "341ed3e0",
   "metadata": {},
   "source": [
    "10.Crear una función llamada calcular_promedio(a, b, c) que reciba\n",
    "tres números como parámetros y devuelva el promedio de ellos.\n",
    "Solicitar los números al usuario y mostrar el resultado usando esta\n",
    "función."
   ]
  },
  {
   "cell_type": "code",
   "execution_count": null,
   "id": "c7ea30e2",
   "metadata": {},
   "outputs": [
    {
     "name": "stdout",
     "output_type": "stream",
     "text": [
      "El promedio es: 10.0\n"
     ]
    }
   ],
   "source": [
    "def solicitarNumero():\n",
    "    while True:\n",
    "        try:\n",
    "            numero = float(input(\"Ingresa un número: \"))\n",
    "            return numero\n",
    "        except ValueError:\n",
    "            print(\"Ingresa un número válido\")\n",
    "\n",
    "def calcularPromedio(num1,num2,num3):\n",
    "    promedio = (num1+num2+num3)/3\n",
    "    return print(f\"El promedio es: {promedio}\")\n",
    "\n",
    "num1 = solicitarNumero()\n",
    "num2 = solicitarNumero()\n",
    "num3 = solicitarNumero()\n",
    "\n",
    "calcularPromedio(num1,num2,num3)"
   ]
  }
 ],
 "metadata": {
  "kernelspec": {
   "display_name": "Python 3",
   "language": "python",
   "name": "python3"
  },
  "language_info": {
   "codemirror_mode": {
    "name": "ipython",
    "version": 3
   },
   "file_extension": ".py",
   "mimetype": "text/x-python",
   "name": "python",
   "nbconvert_exporter": "python",
   "pygments_lexer": "ipython3",
   "version": "3.12.10"
  }
 },
 "nbformat": 4,
 "nbformat_minor": 5
}
