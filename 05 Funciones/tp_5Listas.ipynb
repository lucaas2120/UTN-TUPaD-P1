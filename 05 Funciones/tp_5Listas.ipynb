{
 "cells": [
  {
   "cell_type": "markdown",
   "id": "3f89afc8",
   "metadata": {},
   "source": [
    "1) Crear una lista con los números del 1 al 100 que sean múltiplos de 4. Utilizar la función\n",
    "range."
   ]
  },
  {
   "cell_type": "code",
   "execution_count": 1,
   "id": "5b04b25f",
   "metadata": {},
   "outputs": [
    {
     "name": "stdout",
     "output_type": "stream",
     "text": [
      "[0, 4, 8, 12, 16, 20, 24, 28, 32, 36, 40, 44, 48, 52, 56, 60, 64, 68, 72, 76, 80, 84, 88, 92, 96, 100]\n"
     ]
    }
   ],
   "source": [
    "lista = list(range(0,101,4))\n",
    "print(lista)"
   ]
  },
  {
   "cell_type": "markdown",
   "id": "24f8e6ac",
   "metadata": {},
   "source": [
    "2) Crear una lista con cinco elementos (colocar los elementos que más te gusten) y mostrar el penúltimo. ¡Puedes hacerlo como se muestra en los videos o bien investigar cómo funciona el indexing con números negativos!"
   ]
  },
  {
   "cell_type": "code",
   "execution_count": 6,
   "id": "ab1a4401",
   "metadata": {},
   "outputs": [
    {
     "name": "stdout",
     "output_type": "stream",
     "text": [
      "sabado\n"
     ]
    }
   ],
   "source": [
    "dias = [\"lunes\", \"martes\", \"miercoles\", \"jueves\", \"viernes\", \"sabado\", \"domingo\"]\n",
    "\n",
    "print(dias[-2])"
   ]
  },
  {
   "cell_type": "markdown",
   "id": "875d514c",
   "metadata": {},
   "source": [
    "3) Crear una lista vacía, agregar tres palabras con append e imprimir la lista resultante por pantalla. Pista: para crear una lista vacía debes colocar los corchetes sin nada en su interior. Por ejemplo: lista_vacia = []"
   ]
  },
  {
   "cell_type": "code",
   "execution_count": 7,
   "id": "f0a4312e",
   "metadata": {},
   "outputs": [
    {
     "name": "stdout",
     "output_type": "stream",
     "text": [
      "['mesa', 'sillas', 'sofa']\n"
     ]
    }
   ],
   "source": [
    "listaObjetos = []\n",
    "listaObjetos.append(\"mesa\")\n",
    "listaObjetos.append(\"sillas\")\n",
    "listaObjetos.append(\"sofa\")\n",
    "print(listaObjetos)"
   ]
  },
  {
   "cell_type": "markdown",
   "id": "68f48df6",
   "metadata": {},
   "source": [
    "4) Reemplazar el segundo y último valor de la lista “animales” con las palabras “loro” y “oso”, respectivamente. Imprimir la lista resultante por pantalla. ¡Puedes hacerlo como se muestra en los videos o bien investigar cómo funciona el indexing con números negativos!\n"
   ]
  },
  {
   "cell_type": "code",
   "execution_count": 8,
   "id": "fe359b3c",
   "metadata": {},
   "outputs": [
    {
     "name": "stdout",
     "output_type": "stream",
     "text": [
      "['perro', 'mono', 'conejo', 'tortuga']\n"
     ]
    }
   ],
   "source": [
    "animales = [\"perro\", \"gato\", \"conejo\", \"pez\"]\n",
    "animales[1] = \"mono\"\n",
    "animales[-1] = \"tortuga\"\n",
    "print(animales)"
   ]
  },
  {
   "cell_type": "markdown",
   "id": "03262fbb",
   "metadata": {},
   "source": [
    "5) Analizar el siguiente programa y explicar con tus palabras qué es lo que realiza."
   ]
  },
  {
   "cell_type": "code",
   "execution_count": 9,
   "id": "6906d874",
   "metadata": {},
   "outputs": [
    {
     "name": "stdout",
     "output_type": "stream",
     "text": [
      "[8, 15, 3, 7]\n"
     ]
    }
   ],
   "source": [
    "numeros = [8,15,3,22,7]\n",
    "numeros.remove(max(numeros))\n",
    "print(numeros)"
   ]
  },
  {
   "cell_type": "markdown",
   "id": "a031ce28",
   "metadata": {},
   "source": [
    "En la primer linea declaramos una lista de números, luego en la segunda utilizamos el remove para quitar un número en especifico, el cuál se define con la funcion max que retornara el mayor número que se encuentre en la variable numeros, por ende, elimina el 22"
   ]
  },
  {
   "cell_type": "markdown",
   "id": "3c3d9e6f",
   "metadata": {},
   "source": [
    "6) Crear una lista con números del 10 al 30 (incluído), haciendo saltos de 5 en 5 y mostrar por pantalla los dos primeros."
   ]
  },
  {
   "cell_type": "code",
   "execution_count": 10,
   "id": "de56df47",
   "metadata": {},
   "outputs": [
    {
     "name": "stdout",
     "output_type": "stream",
     "text": [
      "[10, 15, 20, 25, 30]\n"
     ]
    }
   ],
   "source": [
    "lista = list(range(10,31,5))\n",
    "print(lista)"
   ]
  },
  {
   "cell_type": "markdown",
   "id": "2004d526",
   "metadata": {},
   "source": [
    "7) Reemplazar los dos valores centrales (índices 1 y 2) de la lista “autos” por dos nuevos valores cualesquiera."
   ]
  },
  {
   "cell_type": "code",
   "execution_count": 14,
   "id": "b6cad2a1",
   "metadata": {},
   "outputs": [
    {
     "name": "stdout",
     "output_type": "stream",
     "text": [
      "['sedan', 'auto', 'moto', 'gol']\n"
     ]
    }
   ],
   "source": [
    "autos = [\"sedan\", \"polo\", \"suran\", \"gol\"]\n",
    "autos[1:3] = [\"auto\",\"moto\"]  \n",
    "print(autos) "
   ]
  },
  {
   "cell_type": "markdown",
   "id": "c824869b",
   "metadata": {},
   "source": [
    "8) Crear una lista vacía llamada \"dobles\" y agregar el doble de 5, 10 y 15 usando append directamente. Imprimir la lista resultante por pantalla."
   ]
  },
  {
   "cell_type": "code",
   "execution_count": 15,
   "id": "66e52f00",
   "metadata": {},
   "outputs": [
    {
     "name": "stdout",
     "output_type": "stream",
     "text": [
      "[10, 20, 30]\n"
     ]
    }
   ],
   "source": [
    "dobles = []\n",
    "dobles.append(5*2)\n",
    "dobles.append(10*2)\n",
    "dobles.append(15*2)\n",
    "\n",
    "print(dobles)\n"
   ]
  },
  {
   "cell_type": "markdown",
   "id": "c7a85b48",
   "metadata": {},
   "source": [
    "9) Dada la lista “compras”, cuyos elementos representan los productos comprados por diferentes clientes:\n",
    "\n",
    "    a- Agregar \"jugo\" a la lista del tercer cliente usando append.\n",
    "\n",
    "    b- Reemplazar \"fideos\" por \"tallarines\" en la lista del segundo cliente.\n",
    "\n",
    "    c- Eliminar \"pan\" de la lista del primer cliente.\n",
    "    \n",
    "    d-Imprimir la lista resultante por pantalla"
   ]
  },
  {
   "cell_type": "code",
   "execution_count": 16,
   "id": "a6e97345",
   "metadata": {},
   "outputs": [
    {
     "name": "stdout",
     "output_type": "stream",
     "text": [
      "[['leche'], ['arroz', 'tallarines', 'salsa'], ['agua', 'jugo']]\n"
     ]
    }
   ],
   "source": [
    "compras = [[\"pan\", \"leche\"], [\"arroz\", \"fideos\", \"salsa\"], [\"agua\"]]\n",
    "\n",
    "compras[2].append(\"jugo\")\n",
    "compras[1][1] = \"tallarines\"\n",
    "compras[0].remove(\"pan\")\n",
    "\n",
    "print(compras)"
   ]
  },
  {
   "cell_type": "markdown",
   "id": "e314f6a6",
   "metadata": {},
   "source": [
    "10) Elaborar una lista anidada llamada “lista_anidada” que contenga los siguientes elementos:\n",
    "\n",
    "● Posición lista_anidada[0]: 15\n",
    "\n",
    "● Posición lista_anidada[1]: True\n",
    "\n",
    "● Posición lista_anidada[2][0]: 25.5\n",
    "\n",
    "● Posición lista_anidada[2][1]: 57.9\n",
    "\n",
    "● Posición lista_anidada[2][2]: 30.6\n",
    "\n",
    "● Posición lista_anidada[3]: False\n",
    "\n",
    "Imprimir la lista resultante por pantalla"
   ]
  },
  {
   "cell_type": "code",
   "execution_count": 18,
   "id": "1d9899b7",
   "metadata": {},
   "outputs": [
    {
     "name": "stdout",
     "output_type": "stream",
     "text": [
      "[15, True, [25.5, 57.9, 30.6], False]\n"
     ]
    }
   ],
   "source": [
    "lista_anidada =[]\n",
    "\n",
    "lista_anidada.append(15)\n",
    "lista_anidada.append(True)\n",
    "lista_anidada.append([25.5,57.9,30.6])\n",
    "lista_anidada.append(False)\n",
    "print(lista_anidada)"
   ]
  }
 ],
 "metadata": {
  "kernelspec": {
   "display_name": "Python 3",
   "language": "python",
   "name": "python3"
  },
  "language_info": {
   "codemirror_mode": {
    "name": "ipython",
    "version": 3
   },
   "file_extension": ".py",
   "mimetype": "text/x-python",
   "name": "python",
   "nbconvert_exporter": "python",
   "pygments_lexer": "ipython3",
   "version": "3.12.10"
  }
 },
 "nbformat": 4,
 "nbformat_minor": 5
}
