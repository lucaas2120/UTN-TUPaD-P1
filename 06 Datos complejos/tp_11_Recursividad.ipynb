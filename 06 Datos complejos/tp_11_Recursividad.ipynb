{
 "cells": [
  {
   "cell_type": "markdown",
   "id": "06118902",
   "metadata": {},
   "source": [
    "Práctico 11: Aplicación de la Recursividad"
   ]
  },
  {
   "cell_type": "markdown",
   "id": "548855e1",
   "metadata": {},
   "source": [
    "1) Crea una función recursiva que calcule el factorial de un número. Luego, utiliza esa función para calcular y mostrar en pantalla el factorial de todos los números enteros entre 1 y el número que indique el usuario"
   ]
  },
  {
   "cell_type": "code",
   "execution_count": 2,
   "id": "e3cabcb0",
   "metadata": {},
   "outputs": [
    {
     "name": "stdout",
     "output_type": "stream",
     "text": [
      "Factorial de 1 = 1\n",
      "Factorial de 2 = 2\n",
      "Factorial de 3 = 6\n",
      "Factorial de 4 = 24\n",
      "Factorial de 5 = 120\n",
      "Factorial de 6 = 720\n",
      "Factorial de 7 = 5040\n",
      "Factorial de 8 = 40320\n",
      "Factorial de 9 = 362880\n",
      "Factorial de 10 = 3628800\n"
     ]
    }
   ],
   "source": [
    "def factorial(n):\n",
    "    #Caso base: Factorial de 0 o 1 es igual a 1\n",
    "    if n == 0 or n == 1:\n",
    "        return 1\n",
    "    else:\n",
    "        #Recursividad: n * factorial(n-1)\n",
    "        return n * factorial(n - 1)\n",
    "\n",
    "def solicitarNro():\n",
    "    #Agregamos validaciones para evitar fallos al ingresar un número o caracter invalido\n",
    "    while True:\n",
    "        try:\n",
    "            num = int(input(\"Ingrese un número entero positivo: \"))\n",
    "            if num < 1:\n",
    "                print(\"El número debe ser mayor o igual a 1.\")\n",
    "            else:\n",
    "                return num\n",
    "        except ValueError:\n",
    "            print(\"Por favor, ingrese un número entero válido.\")\n",
    "\n",
    "def imprimirNumeros(num):\n",
    "    #funcion donde se encarga de imprimir todos los números y su factorial\n",
    "    for i in range(1, num + 1):\n",
    "        print(f\"Factorial de {i} = {factorial(i)}\")\n",
    "\n",
    "\n",
    "numero = solicitarNro()\n",
    "imprimirNumeros(numero)\n"
   ]
  },
  {
   "cell_type": "markdown",
   "id": "db35b0d8",
   "metadata": {},
   "source": [
    "2) Crea una función recursiva que calcule el valor de la serie de Fibonacci en la posición indicada. Posteriormente, muestra la serie completa hasta la posición que el usuario especifique."
   ]
  },
  {
   "cell_type": "code",
   "execution_count": 3,
   "id": "ad1aa6f2",
   "metadata": {},
   "outputs": [
    {
     "name": "stdout",
     "output_type": "stream",
     "text": [
      "Serie Fibonacci: \n",
      "0 1 1 2 3 5 8 13 21 34 55 89 144 233 377 610 \n"
     ]
    }
   ],
   "source": [
    "def fibonacci(n):\n",
    "    #Casos base: posición 0 -> 0, posición 1 -> 1\n",
    "    if n == 0:\n",
    "        return 0\n",
    "    elif n == 1:\n",
    "        return 1\n",
    "    else:\n",
    "        #Recursividad: suma de las dos posiciones anteriores\n",
    "        return fibonacci(n - 1) + fibonacci(n - 2)\n",
    "\n",
    "#Solicitar posición al usuario\n",
    "def solicitarPosicion():\n",
    "    while True:\n",
    "        try:\n",
    "            pos = int(input(\"Ingrese la posición hasta donde desea la serie Fibonacci: \"))\n",
    "            if pos < 0:\n",
    "                print(\"Debes ingresar un número entero positivo.\")\n",
    "            else:\n",
    "                return pos\n",
    "        except ValueError:\n",
    "            print(\"Por favor, ingrese un número entero.\")\n",
    "\n",
    "#Mostrar la serie completa hasta la posición indicada\n",
    "def procesarFibonacci(pos):\n",
    "    print(\"Serie Fibonacci: \")\n",
    "    for i in range(pos + 1):\n",
    "        print(fibonacci(i), end=\" \")\n",
    "    print()\n",
    "\n",
    "\n",
    "pos = solicitarPosicion()\n",
    "procesarFibonacci(pos)\n"
   ]
  },
  {
   "cell_type": "markdown",
   "id": "f09d8fa8",
   "metadata": {},
   "source": [
    "3) Crea una función recursiva que calcule la potencia de un número base elevado a un exponente, utilizando la fórmula 𝑛𝑚= 𝑛∗𝑛(𝑚−1). Prueba esta función en un algoritmo general."
   ]
  },
  {
   "cell_type": "code",
   "execution_count": 5,
   "id": "5c67a235",
   "metadata": {},
   "outputs": [
    {
     "name": "stdout",
     "output_type": "stream",
     "text": [
      "3^3 = 27\n"
     ]
    }
   ],
   "source": [
    "def potencia(base, exponente):\n",
    "    #Base: cualquier número elevado a 0 es 1\n",
    "    if exponente == 0:\n",
    "        return 1\n",
    "    else:\n",
    "        # Caso recursivo: base * potencia(base, exponente - 1)\n",
    "        return base * potencia(base, exponente - 1)\n",
    "\n",
    "#Solicitar base y exponente al usuario\n",
    "def solicitarNumeros():\n",
    "    while True:\n",
    "        try:\n",
    "            base = int(input(\"Ingrese la base: \"))\n",
    "            exponente = int(input(\"Ingrese el exponente (entero no negativo): \"))\n",
    "            if exponente < 0:\n",
    "                print(\"El exponente debe ser un número entero no negativo.\")\n",
    "            else:\n",
    "                return base, exponente\n",
    "        except ValueError:\n",
    "            print(\"Por favor, ingrese números enteros válidos.\")\n",
    "\n",
    "# Calcular y mostrar resultado\n",
    "def calcularPotencia(base,exponente):\n",
    "    print(f\"{base}^{exponente} = {potencia(base, exponente)}\")\n",
    "\n",
    "base, exponente = solicitarNumeros()\n",
    "calcularPotencia(base, exponente)"
   ]
  },
  {
   "cell_type": "markdown",
   "id": "5a0ded4c",
   "metadata": {},
   "source": [
    "4) Crear una función recursiva en Python que reciba un número entero positivo en base decimal y devuelva su representación en binario como una cadena de texto."
   ]
  },
  {
   "cell_type": "code",
   "execution_count": null,
   "id": "b3402276",
   "metadata": {},
   "outputs": [],
   "source": [
    "def decimal_a_binario(n):\n",
    "    #base: si el número es 0 o 1, se devuelve como cadena\n",
    "    if n == 0:\n",
    "        return \"0\"\n",
    "    elif n == 1:\n",
    "        return \"1\"\n",
    "    else:\n",
    "        #Recursividad: dividir por 2 y guardar el resto\n",
    "        return decimal_a_binario(n // 2) + str(n % 2)\n",
    "\n",
    "#Solicitar número decimal\n",
    "def solicitarDecimal():\n",
    "    while True:\n",
    "        try:\n",
    "            decimal = int(input(\"Ingrese un número entero positivo para convertir a binario: \"))\n",
    "            if decimal < 0:\n",
    "                print(\"Por favor, ingrese un número positivo.\")\n",
    "            else:\n",
    "                return decimal\n",
    "        except ValueError:\n",
    "            print(\"Entrada inválida. Ingrese un número entero.\")\n",
    "\n",
    "#Mostrar resultado\n",
    "def mostrarResultado(decimal):\n",
    "    print(f\"El número {decimal} en binario es: {decimal_a_binario(decimal)}\")\n",
    "\n",
    "decimal = solicitarDecimal()\n",
    "mostrarResultado(decimal)\n"
   ]
  }
 ],
 "metadata": {
  "kernelspec": {
   "display_name": "Python 3",
   "language": "python",
   "name": "python3"
  },
  "language_info": {
   "codemirror_mode": {
    "name": "ipython",
    "version": 3
   },
   "file_extension": ".py",
   "mimetype": "text/x-python",
   "name": "python",
   "nbconvert_exporter": "python",
   "pygments_lexer": "ipython3",
   "version": "3.12.10"
  }
 },
 "nbformat": 4,
 "nbformat_minor": 5
}
