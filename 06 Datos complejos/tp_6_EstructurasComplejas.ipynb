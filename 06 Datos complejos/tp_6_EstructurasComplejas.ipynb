{
 "cells": [
  {
   "cell_type": "markdown",
   "id": "37b4c128",
   "metadata": {},
   "source": [
    "1) Dado el diccionario precios_frutas\n",
    "precios_frutas = {'Banana': 1200, 'Ananá': 2500, 'Melón': 3000, 'Uva':\n",
    "1450}\n",
    "\n",
    "Añadir las siguientes frutas con sus respectivos precios:\n",
    "\n",
    "● Naranja = 1200\n",
    "\n",
    "● Manzana = 1500\n",
    "\n",
    "● Pera = 2300\n"
   ]
  },
  {
   "cell_type": "code",
   "execution_count": 1,
   "id": "b795a5b2",
   "metadata": {},
   "outputs": [
    {
     "name": "stdout",
     "output_type": "stream",
     "text": [
      "{'Banana': 1200, 'Ananá': 2500, 'Melón': 3000, 'Uva': 1450, 'Naranja': 1200, 'Manzana': 1500, 'Pera': 2300}\n"
     ]
    }
   ],
   "source": [
    "precios_frutas = {'Banana': 1200, 'Ananá': 2500, 'Melón': 3000, 'Uva':\n",
    "1450}\n",
    "\n",
    "precios_frutas['Naranja'] = 1200\n",
    "precios_frutas['Manzana'] = 1500\n",
    "precios_frutas['Pera'] = 2300\n",
    "\n",
    "print(precios_frutas)"
   ]
  },
  {
   "cell_type": "markdown",
   "id": "9217122a",
   "metadata": {},
   "source": [
    "2) Siguiendo con el diccionario precios_frutas que resulta luego de ejecutar el código\n",
    "desarrollado en el punto anterior, actualizar los precios de las siguientes frutas:\n",
    "\n",
    "● Banana = 1330\n",
    "\n",
    "● Manzana = 1700\n",
    "\n",
    "● Melón = 2800"
   ]
  },
  {
   "cell_type": "code",
   "execution_count": 2,
   "id": "a46220d9",
   "metadata": {},
   "outputs": [
    {
     "name": "stdout",
     "output_type": "stream",
     "text": [
      "{'Banana': 1330, 'Ananá': 2500, 'Melón': 3000, 'Uva': 1450, 'Manzana': 1700, 'Melon': 2800}\n"
     ]
    }
   ],
   "source": [
    "precios_frutas = {'Banana': 1200, 'Ananá': 2500, 'Melón': 3000, 'Uva':\n",
    "1450}\n",
    "\n",
    "precios_frutas['Banana'] = 1330\n",
    "precios_frutas['Manzana'] = 1700\n",
    "precios_frutas['Melon'] = 2800\n",
    "\n",
    "print(precios_frutas)"
   ]
  },
  {
   "cell_type": "markdown",
   "id": "1bdd1cc5",
   "metadata": {},
   "source": [
    "3) Siguiendo con el diccionario precios_frutas que resulta luego de ejecutar el código\n",
    "desarrollado en el punto anterior, crear una lista que contenga únicamente las frutas sin los\n",
    "precios.\n"
   ]
  },
  {
   "cell_type": "code",
   "execution_count": 4,
   "id": "f48d543b",
   "metadata": {},
   "outputs": [
    {
     "name": "stdout",
     "output_type": "stream",
     "text": [
      "['Banana', 'Ananá', 'Melón', 'Uva', 'Manzana', 'Melon']\n"
     ]
    }
   ],
   "source": [
    "precios_frutas = {'Banana': 1200, 'Ananá': 2500, 'Melón': 3000, 'Uva':\n",
    "1450}\n",
    "\n",
    "precios_frutas['Banana'] = 1330\n",
    "precios_frutas['Manzana'] = 1700\n",
    "precios_frutas['Melon'] = 2800\n",
    "\n",
    "lista = list(precios_frutas.keys())\n",
    "\n",
    "print(lista)\n",
    "\n"
   ]
  },
  {
   "cell_type": "markdown",
   "id": "72d4ef01",
   "metadata": {},
   "source": [
    "4) Escribí un programa que permita almacenar y consultar números telefónicos.\n",
    "\n",
    "• Permití al usuario cargar 5 contactos con su nombre como clave y número como valor.\n",
    "\n",
    "• Luego, pedí un nombre y mostrale el número asociado, si existe"
   ]
  },
  {
   "cell_type": "code",
   "execution_count": null,
   "id": "05600f71",
   "metadata": {},
   "outputs": [
    {
     "name": "stdout",
     "output_type": "stream",
     "text": [
      "{'LUCAS': '12541', 'GABRIEL': '125125', 'ALVAREZ': '125412', 'GEREZ': '124125', 'SUSANA': '12412'}\n",
      "El numero de LUCAS es: 12541\n"
     ]
    }
   ],
   "source": [
    "#Definimos la funcion pedir numeros, la cual se encarga de solicitar con un for los 5 numeros.\n",
    "def perdirNumeros():\n",
    "    agenda = {}\n",
    "    for i in range(5):\n",
    "        #Pedimos el nombre, lo pasamos a mayuscula utilizando upper()\n",
    "        nombre = input(f\"Ingresa el nombre del contacto {i+1}:\").upper()\n",
    "        numero = input(f\"Ingresa su numero de telefono\")\n",
    "        agenda[nombre] = numero\n",
    "    return agenda\n",
    "\n",
    "#Llamamos a la funcion para alojar en la variable agenda la lista\n",
    "agenda = perdirNumeros()\n",
    "\n",
    "#Solicitamos el nombre a buscar y lo pasamos a mayuscula para una mejor busqueda\n",
    "nombre = input(\"Ingresa el nombre que desea buscar: \").upper()\n",
    "\n",
    "#Realizamos la busqueda en la agenda\n",
    "if nombre in agenda:\n",
    "    print(f\"El numero de {nombre} es: {agenda[nombre]}\")\n",
    "else:\n",
    "    print(f\"No existe el contacto buscado.\")"
   ]
  },
  {
   "cell_type": "markdown",
   "id": "34ce4ab5",
   "metadata": {},
   "source": [
    "5) Solicita al usuario una frase e imprime:\n",
    "\n",
    "• Las palabras únicas (usando un set).\n",
    "\n",
    "• Un diccionario con la cantidad de veces que aparece cada palabra."
   ]
  },
  {
   "cell_type": "code",
   "execution_count": null,
   "id": "45adf322",
   "metadata": {},
   "outputs": [
    {
     "name": "stdout",
     "output_type": "stream",
     "text": [
      "Palabras unicas: {'chau', 'hola', 'lucas'}\n",
      "Cantidad de apariciones por palabra: {'hola': 3, 'lucas': 1, 'chau': 1}\n"
     ]
    }
   ],
   "source": [
    "#Funcion para solicitar la frase\n",
    "def solicitarFrase():\n",
    "    frase = input(\"Ingresa una frase: \")\n",
    "    return frase \n",
    "\n",
    "#Funcion encargada de procesar la frase\n",
    "def procesarFrase(frase):\n",
    "    #Utilizamos split() para dividir la cadena en una lista de subcadenas\n",
    "    palabras = frase.split()\n",
    "    #Seteamos las palabras, para evitar los elementos repetidos\n",
    "    palabrasUnicas = set(palabras)\n",
    "    \n",
    "    contPalabras = {}\n",
    "    #Loop sobre las palabras, para realizar el conteo de coincidencias.\n",
    "    for palabra in palabras:\n",
    "        if palabra in contPalabras:\n",
    "            contPalabras[palabra] += 1\n",
    "        else:\n",
    "            contPalabras[palabra] = 1\n",
    "    return contPalabras, palabrasUnicas\n",
    "\n",
    "#Llamamos la funcion para solicitar la frase\n",
    "frase = solicitarFrase()\n",
    "\n",
    "#Procesamos la frase\n",
    "contPalabras, palabrasUnicas = procesarFrase(frase)\n",
    "\n",
    "#Imprimimos en pantalla los resultados\n",
    "print(f\"Palabras unicas: {palabrasUnicas}\")\n",
    "print(f\"Cantidad de apariciones por palabra: {contPalabras}\")"
   ]
  },
  {
   "cell_type": "markdown",
   "id": "280a4512",
   "metadata": {},
   "source": [
    "6) Permití ingresar los nombres de 3 alumnos, y para cada uno una tupla de 3 notas.\n",
    "Luego, mostrá el promedio de cada alumno.\n",
    "\n",
    "alumnos = {\n",
    "\n",
    "    \"Sofia\": (10,9,8),\n",
    "\n",
    "    \"Luis\" : (6,7,7)\n",
    "    \n",
    "}"
   ]
  },
  {
   "cell_type": "code",
   "execution_count": 19,
   "id": "bcc54dc0",
   "metadata": {},
   "outputs": [
    {
     "name": "stdout",
     "output_type": "stream",
     "text": [
      "Juan: 8.33\n",
      "Pedro: 8.00\n",
      "Ramon: 8.00\n"
     ]
    }
   ],
   "source": [
    "\n",
    "def solicitarAlumnos():\n",
    "    alumnos = {}\n",
    "\n",
    "    #Utilizamos FOR para pedir el ingreso de los nombres y sus correspondientes notas.\n",
    "    for i in range(3):\n",
    "        #Solicitamos nombre\n",
    "        nombre = input(f\"Ingresa el nombre del almuno nro {i+1}: \")\n",
    "\n",
    "        notas = []\n",
    "        #Solicitamos las notas\n",
    "        for indice in range(3):\n",
    "            nota = int(input(f\"Ingresa la nota {indice+1} de {nombre}: \"))\n",
    "            notas.append(nota)\n",
    "\n",
    "        #Guardamos las notas como tupla\n",
    "        alumnos[nombre] = tuple(notas)\n",
    "\n",
    "    return alumnos\n",
    "\n",
    "#Funcion hecha para calcular los promedios de cada alumno, hacemos un for entre alumnos y sus notas, calculamos con sum() la suma de las mismas\n",
    "# y lo dividimos por len(notas), que cuenta el total de notas dentro de la tupla, por ultimo imprimimos los resultados.\n",
    "def calcularPromeido(almunos):\n",
    "    for alumno, notas in alumnos.items():\n",
    "        promedio = sum(notas) / len(notas)\n",
    "        print(f\"{alumno}: {promedio:.2f}\")\n",
    "\n",
    "\n",
    "\n",
    "alumnos = solicitarAlumnos()\n",
    "calcularPromeido(alumnos)"
   ]
  },
  {
   "cell_type": "markdown",
   "id": "20556278",
   "metadata": {},
   "source": [
    "7) Dado dos sets de números, representando dos listas de estudiantes que aprobaron Parcial 1\n",
    "y Parcial 2:\n",
    "\n",
    "• Mostrá los que aprobaron ambos parciales.\n",
    "\n",
    "• Mostrá los que aprobaron solo uno de los dos.\n",
    "\n",
    "• Mostrá la lista total de estudiantes que aprobaron al menos un parcial (sin repetir)."
   ]
  },
  {
   "cell_type": "code",
   "execution_count": null,
   "id": "f253cd9f",
   "metadata": {},
   "outputs": [
    {
     "name": "stdout",
     "output_type": "stream",
     "text": [
      "Aprobaron ambos parciales: {'Sol', 'Lucas'}\n",
      "Aprobaron solo uno de los dos parciales: {'Enrique', 'Carlos', 'Marta', 'Maria'}\n",
      "Aprobaron al menos un parcial: {'Sol', 'Lucas', 'Enrique', 'Carlos', 'Marta', 'Maria'}\n"
     ]
    }
   ],
   "source": [
    "#Esta funcion se encarga de mostrar la interseccion de las listas, es decir, quienes aprobaron ambos parciales\n",
    "def obtener_aprobaron_ambos(parcial1, parcial2):\n",
    "    return parcial1.intersection(parcial2)\n",
    "\n",
    "#Esta funcion se encarga de mostrar la diferencia simetrica entre las listas, para mostrar quienes aprobaron un solo examen\n",
    "def obtener_aprobaron_solo_uno(parcial1, parcial2):\n",
    "    return parcial1.symmetric_difference(parcial2)\n",
    "\n",
    "#Esta funcion obtiene el total de personas que aprobaron al menos un examen\n",
    "def obtener_aprobaron_al_menos_uno(parcial1, parcial2):\n",
    "    return parcial1.union(parcial2)\n",
    "\n",
    "\n",
    "#Lista de estudiantes que aprobaron cada parcial\n",
    "parcial1 = {\"Lucas\", \"Carlos\", \"Enrique\", \"Sol\"}\n",
    "parcial2 = {\"Marta\", \"Lucas\", \"Sol\", \"Maria\"}\n",
    "\n",
    "#Llamamos las funciones creadas\n",
    "ambos = obtener_aprobaron_ambos(parcial1, parcial2)\n",
    "solo_uno = obtener_aprobaron_solo_uno(parcial1, parcial2)\n",
    "al_menos_uno = obtener_aprobaron_al_menos_uno(parcial1, parcial2)\n",
    "\n",
    "#Imprimimos los resultados\n",
    "print(f\"Aprobaron ambos parciales: {ambos}\")\n",
    "print(f\"Aprobaron solo uno de los dos parciales: {solo_uno}\")\n",
    "print(f\"Aprobaron al menos un parcial: {al_menos_uno}\")\n"
   ]
  },
  {
   "cell_type": "markdown",
   "id": "a509e566",
   "metadata": {},
   "source": [
    "8) Armá un diccionario donde las claves sean nombres de productos y los valores su stock.\n",
    "Permití al usuario:\n",
    "\n",
    "• Consultar el stock de un producto ingresado.\n",
    "\n",
    "• Agregar unidades al stock si el producto ya existe.\n",
    "\n",
    "• Agregar un nuevo producto si no existe."
   ]
  },
  {
   "cell_type": "code",
   "execution_count": 23,
   "id": "dd8544b3",
   "metadata": {},
   "outputs": [
    {
     "name": "stdout",
     "output_type": "stream",
     "text": [
      "--- MENÚ ---\n",
      "1. Consultar stock de un producto\n",
      "2. Agregar unidades a un producto existente\n",
      "3. Agregar un nuevo producto\n",
      "4. Salir\n",
      "Nuevo stock de papa: 80\n",
      "--- MENÚ ---\n",
      "1. Consultar stock de un producto\n",
      "2. Agregar unidades a un producto existente\n",
      "3. Agregar un nuevo producto\n",
      "4. Salir\n",
      "Saliendo del sistema.\n"
     ]
    }
   ],
   "source": [
    "#Menu interactivo\n",
    "def menu():\n",
    "    print(\"--- MENÚ ---\")\n",
    "    print(\"1. Consultar stock de un producto\")\n",
    "    print(\"2. Agregar unidades a un producto existente\")\n",
    "    print(\"3. Agregar un nuevo producto\")\n",
    "    print(\"4. Salir\")\n",
    "\n",
    "def consultarStock(stock):\n",
    "    producto = input(\"Ingrese el nombre del producto: \").lower()\n",
    "    if producto in stock:\n",
    "        print(f\"Stock de {producto}: {stock[producto]} unidades.\")\n",
    "    else:\n",
    "        print(f\"{producto} no se encuentra en el inventario.\")\n",
    "\n",
    "def agregarStock(stock):\n",
    "    producto = input(\"Ingrese el nombre del producto: \").lower()\n",
    "    if producto in stock:\n",
    "        cantidad = int(input(f\"Ingrese cuántas unidades agregar a {producto}: \"))\n",
    "        stock[producto] += cantidad\n",
    "        print(f\"Nuevo stock de {producto}: {stock[producto]}\")\n",
    "    else:\n",
    "        print(f\"{producto} no existe. Use la opción 3 para agregarlo como nuevo.\")\n",
    "\n",
    "def agregarNuevoProducto(stock):\n",
    "    producto = input(\"Ingrese el nombre del nuevo producto: \").lower()\n",
    "    if producto in stock:\n",
    "        print(f\"{producto} ya existe en el inventario con {stock[producto]} unidades.\")\n",
    "    else:\n",
    "        cantidad = int(input(f\"Ingrese la cantidad inicial de stock para {producto}: \"))\n",
    "        stock[producto] = cantidad\n",
    "        print(f\"{producto} agregado con {cantidad} unidades.\")\n",
    "\n",
    "# Diccionario inicial de mercaderia\n",
    "stock_verduras = {\n",
    "    \"zanahoria\": 30,\n",
    "    \"lechuga\": 15,\n",
    "    \"papa\": 50,\n",
    "    \"tomate\": 20\n",
    "}\n",
    "\n",
    "# Bucle del menu\n",
    "while True:\n",
    "    menu()\n",
    "    opcion = input(\"Seleccione una opción: \")\n",
    "\n",
    "    if opcion == \"1\":\n",
    "        consultarStock(stock_verduras)\n",
    "    elif opcion == \"2\":\n",
    "        agregarStock(stock_verduras)\n",
    "    elif opcion == \"3\":\n",
    "        agregarNuevoProducto(stock_verduras)\n",
    "    elif opcion == \"4\":\n",
    "        print(\"Saliendo del sistema.\")\n",
    "        break\n",
    "    else:\n",
    "        print(\"Opción no válida. Intente de nuevo.\")\n"
   ]
  },
  {
   "cell_type": "markdown",
   "id": "f870a891",
   "metadata": {},
   "source": [
    "9) Creá una agenda donde las claves sean tuplas de (día, hora) y los valores sean eventos.\n",
    "Ejemplo:\n",
    "\n",
    "agenda = {\n",
    "\n",
    "    (\"lunes\", \"10:00\"): \"reunion\",\n",
    "    (\"martes\", \"15:00\"): \"clase de ingles\"\n",
    "\n",
    "}\n",
    "\n",
    "Permití consultar qué actividad hay en cierto día y hora."
   ]
  },
  {
   "cell_type": "code",
   "execution_count": null,
   "id": "321e915f",
   "metadata": {},
   "outputs": [
    {
     "name": "stdout",
     "output_type": "stream",
     "text": [
      "El dia lunes hora 10:00: reunión\n"
     ]
    }
   ],
   "source": [
    "#Solicitamos el ingreso del día y horario\n",
    "def consultarActividad(agenda):\n",
    "    dia = input(\"Ingresa el dia: \").lower()\n",
    "    hora = input(\"Ingresa la hora (hh:mm): \")\n",
    "    #Guardamos los datos solicitados en la siguiente variable, para luego buscarlos en la agenda\n",
    "    clave = (dia, hora)\n",
    "    \n",
    "    if clave in agenda:\n",
    "        print(f\"El dia {dia} hora {hora} tienes {agenda[clave]}\")\n",
    "    else:\n",
    "        print(f\"No hay ninguna actividad programada para {dia} a las {hora}.\")\n",
    "    \n",
    "agenda = {\n",
    "    (\"lunes\", \"10:00\"): \"reunión\",\n",
    "    (\"martes\", \"15:00\"): \"clase de inglés\",\n",
    "    (\"miércoles\", \"09:30\"): \"entrenamiento\"\n",
    "}\n",
    "    \n",
    "consultarActividad(agenda)\n"
   ]
  },
  {
   "cell_type": "markdown",
   "id": "2588e5ed",
   "metadata": {},
   "source": [
    "10) Dado un diccionario que mapea nombres de países con sus capitales, construí un nuevo\n",
    "diccionario donde:\n",
    "\n",
    "• Las capitales sean las claves.\n",
    "\n",
    "• Los países sean los valores."
   ]
  },
  {
   "cell_type": "code",
   "execution_count": 29,
   "id": "d3b30cd4",
   "metadata": {},
   "outputs": [
    {
     "name": "stdout",
     "output_type": "stream",
     "text": [
      "Diccionario invertido:\n",
      "{'Buenos Aires': 'Argentina', 'Santiago': 'Chile', 'Brasilia': 'Brasil', 'Montevideo': 'Uruguay', 'Asunción': 'Paraguay', 'Lima': 'Perú', 'La Paz': 'Bolivia', 'Bogotá': 'Colombia', 'Caracas': 'Venezuela', 'Quito': 'Ecuador'}\n"
     ]
    }
   ],
   "source": [
    "#Diccionario de paises y capitales\n",
    "original = {\n",
    "    \"Argentina\": \"Buenos Aires\",\n",
    "    \"Chile\": \"Santiago\",\n",
    "    \"Brasil\": \"Brasilia\",\n",
    "    \"Uruguay\": \"Montevideo\",\n",
    "    \"Paraguay\": \"Asunción\",\n",
    "    \"Perú\": \"Lima\",\n",
    "    \"Bolivia\": \"La Paz\",\n",
    "    \"Colombia\": \"Bogotá\",\n",
    "    \"Venezuela\": \"Caracas\",\n",
    "    \"Ecuador\": \"Quito\"\n",
    "}\n",
    "\n",
    "#Invertimos el orden \n",
    "invertido = {capital: pais for pais, capital in original.items()}\n",
    "\n",
    "#Mostramos el resultado\n",
    "print(\"Diccionario invertido:\")\n",
    "print(invertido)\n"
   ]
  }
 ],
 "metadata": {
  "kernelspec": {
   "display_name": "Python 3",
   "language": "python",
   "name": "python3"
  },
  "language_info": {
   "codemirror_mode": {
    "name": "ipython",
    "version": 3
   },
   "file_extension": ".py",
   "mimetype": "text/x-python",
   "name": "python",
   "nbconvert_exporter": "python",
   "pygments_lexer": "ipython3",
   "version": "3.12.10"
  }
 },
 "nbformat": 4,
 "nbformat_minor": 5
}
